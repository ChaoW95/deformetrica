{
 "cells": [
  {
   "cell_type": "code",
   "execution_count": 1,
   "metadata": {
    "collapsed": true
   },
   "outputs": [],
   "source": [
    "import numpy as np\n",
    "import torch\n",
    "from torch.autograd import Variable\n",
    "import os\n",
    "import sys\n",
    "import matplotlib.pyplot as plt"
   ]
  },
  {
   "cell_type": "code",
   "execution_count": 2,
   "metadata": {
    "collapsed": true
   },
   "outputs": [],
   "source": [
    "path_to_pydeformetrica = '/Users/alexandre.bone/Workspace/pydeformetrica'\n",
    "sys.path.append(os.path.join(path_to_pydeformetrica, '../'))\n",
    "from pydeformetrica.src.in_out.xml_parameters import XmlParameters\n",
    "from pydeformetrica.src.in_out.dataset_functions import create_template_metadata\n",
    "from pydeformetrica.src.in_out.deformable_object_reader import DeformableObjectReader\n",
    "from pydeformetrica.src.core.model_tools.attachments.multi_object_attachment import MultiObjectAttachment\n",
    "from pydeformetrica.src.support.kernels.kernel_functions import create_kernel\n",
    "from pydeformetrica.src.support.utilities.general_settings import Settings\n",
    "from src.in_out.array_readers_and_writers import *"
   ]
  },
  {
   "cell_type": "code",
   "execution_count": 3,
   "metadata": {
    "collapsed": true
   },
   "outputs": [],
   "source": [
    "path_to_atlas = '/Users/alexandre.bone/Desktop/Nature2018/2_longitudinal_atlases/35_rh_fold1_train_8sources'\n",
    "path_to_output = os.path.join(path_to_atlas, 'output_25kernels')"
   ]
  },
  {
   "cell_type": "code",
   "execution_count": 4,
   "metadata": {},
   "outputs": [
    {
     "name": "stdout",
     "output_type": "stream",
     "text": [
      ">> I will use 10 threads, and I set OMP_NUM_THREADS and torch_num_threads to 1.\n",
      ">> State will be saved in file output/pydef_state.p\n"
     ]
    },
    {
     "name": "stderr",
     "output_type": "stream",
     "text": [
      "/Users/alexandre.bone/Workspace/pydeformetrica/../pydeformetrica/src/in_out/xml_parameters.py:458: UserWarning: CUDA seems to be unavailable. All computations will be carried out on CPU.\n",
      "  warnings.warn(msg)\n"
     ]
    }
   ],
   "source": [
    "# Xml parameters. \n",
    "initialized_model_xml_path = os.path.join(path_to_atlas, 'initialized_model.xml')\n",
    "dataset_xml_path = os.path.join(path_to_atlas, 'data_set.xml')\n",
    "optimization_parameters_xml_path = os.path.join(path_to_atlas, 'optimization_parameters.xml')\n",
    "\n",
    "xml_parameters = XmlParameters()\n",
    "xml_parameters.read_all_xmls(initialized_model_xml_path, dataset_xml_path, optimization_parameters_xml_path)"
   ]
  },
  {
   "cell_type": "code",
   "execution_count": 5,
   "metadata": {
    "collapsed": true
   },
   "outputs": [],
   "source": [
    "path_to_trajectory_txt = os.path.join(path_to_output, 'LongitudinalAtlas__EstimatedParameters__Trajectory.txt')\n",
    "path_to_trajectory_npy = os.path.join(path_to_output, 'LongitudinalAtlas__EstimatedParameters__Trajectory.npy')\n",
    "if os.path.isfile(path_to_trajectory_txt):\n",
    "    trajectory_all_parameters = np.loadtxt(path_to_trajectory_txt)\n",
    "    number_of_trajectory_points = trajectory_all_parameters.shape[0]\n",
    "elif os.path.isfile(path_to_trajectory_npy): \n",
    "    trajectory_all_parameters = np.load(path_to_trajectory_npy)[()]\n",
    "    #number_of_trajectory_points = list(trajectory_all_parameters.values())[0].shape[0]\n",
    "    number_of_trajectory_points = 201\n",
    "else: \n",
    "    raise RuntimeError('No trajectory file !')"
   ]
  },
  {
   "cell_type": "markdown",
   "metadata": {},
   "source": [
    "# 1. Get initialized parameters"
   ]
  },
  {
   "cell_type": "code",
   "execution_count": 6,
   "metadata": {
    "collapsed": true
   },
   "outputs": [],
   "source": [
    "# Template data. \n",
    "for template_object_specifications in xml_parameters.template_specifications.values(): \n",
    "    path_to_initialized_template = os.path.abspath(os.path.join(path_to_atlas, template_object_specifications['filename']))\n",
    "    template_type = template_object_specifications['deformable_object_type'].lower()\n",
    "    attachment_type = template_object_specifications['attachment_type'].lower()\n",
    "    attachement_kernel_type = template_object_specifications['kernel_type']\n",
    "    attachement_kernel_width = template_object_specifications['kernel_width']\n",
    "reader = DeformableObjectReader()\n",
    "initialized_template = reader.create_object(path_to_initialized_template, template_type)\n",
    "range_template_data = range(0, initialized_template.get_points().size)"
   ]
  },
  {
   "cell_type": "code",
   "execution_count": 7,
   "metadata": {
    "collapsed": true
   },
   "outputs": [],
   "source": [
    "# Control points. \n",
    "if Settings().dense_mode: \n",
    "    initialized_control_points = initialized_template.get_points()\n",
    "else:\n",
    "    path_to_initialized_control_points = os.path.abspath(os.path.join(path_to_atlas, xml_parameters.initial_control_points))\n",
    "    initialized_control_points = np.loadtxt(path_to_initialized_control_points)\n",
    "range_control_points = range(range_template_data[-1] + 1, range_template_data[-1] + initialized_control_points.size + 1)"
   ]
  },
  {
   "cell_type": "code",
   "execution_count": 8,
   "metadata": {
    "collapsed": true
   },
   "outputs": [],
   "source": [
    "# Momenta. \n",
    "path_to_initialized_momenta = os.path.abspath(os.path.join(path_to_atlas, xml_parameters.initial_momenta))\n",
    "initialized_momenta = read_3D_array(path_to_initialized_momenta)\n",
    "range_momenta = range(range_control_points[-1] + 1, range_control_points[-1] + initialized_momenta.size + 1)"
   ]
  },
  {
   "cell_type": "code",
   "execution_count": 9,
   "metadata": {
    "collapsed": true
   },
   "outputs": [],
   "source": [
    "# Modulation matrix. \n",
    "path_to_initialized_modulation_matrix = os.path.abspath(os.path.join(path_to_atlas, xml_parameters.initial_modulation_matrix))\n",
    "initialized_modulation_matrix = np.loadtxt(path_to_initialized_modulation_matrix)\n",
    "range_modulation_matrix = range(range_momenta[-1] + 1, range_momenta[-1] + initialized_modulation_matrix.size + 1)"
   ]
  },
  {
   "cell_type": "code",
   "execution_count": 10,
   "metadata": {
    "collapsed": true
   },
   "outputs": [],
   "source": [
    "# Reference time. \n",
    "initialized_reference_time = xml_parameters.t0\n",
    "range_reference_time = range(range_modulation_matrix[-1] + 1, range_modulation_matrix[-1] + 2)"
   ]
  },
  {
   "cell_type": "code",
   "execution_count": 11,
   "metadata": {
    "collapsed": true
   },
   "outputs": [],
   "source": [
    "# Time-shift variance. \n",
    "initialized_time_shift_variance = xml_parameters.initial_time_shift_variance\n",
    "range_time_shift_variance = range(range_reference_time[-1] + 1, range_reference_time[-1] + 2)"
   ]
  },
  {
   "cell_type": "code",
   "execution_count": 12,
   "metadata": {
    "collapsed": true
   },
   "outputs": [],
   "source": [
    "# Log-acceleration variance. \n",
    "initialized_log_acceleration_variance = xml_parameters.initial_log_acceleration_variance\n",
    "range_log_acceleration_variance = range(range_time_shift_variance[-1] + 1, range_time_shift_variance[-1] + 2)"
   ]
  },
  {
   "cell_type": "code",
   "execution_count": 13,
   "metadata": {
    "collapsed": true
   },
   "outputs": [],
   "source": [
    "# Noise variance. \n",
    "for template_object_specifications in xml_parameters.template_specifications.values(): \n",
    "    initialized_noise_variance = template_object_specifications['noise_std'] ** 2\n",
    "range_noise_variance = range(range_log_acceleration_variance[-1] + 1, range_log_acceleration_variance[-1] + 2)"
   ]
  },
  {
   "cell_type": "markdown",
   "metadata": {},
   "source": [
    "# 2. Print parameters trajectory"
   ]
  },
  {
   "cell_type": "code",
   "execution_count": 14,
   "metadata": {
    "collapsed": true
   },
   "outputs": [],
   "source": [
    "max_number_of_trajectory_points = min(500, xml_parameters.max_iterations)\n",
    "x = np.linspace(0, xml_parameters.max_iterations, max_number_of_trajectory_points + 1)[:number_of_trajectory_points]"
   ]
  },
  {
   "cell_type": "code",
   "execution_count": 15,
   "metadata": {},
   "outputs": [
    {
     "data": {
      "image/png": "[encoded data removed]",
      "text/plain": [
       "<matplotlib.figure.Figure at 0x1815f8fc18>"
      ]
     },
     "metadata": {},
     "output_type": "display_data"
    }
   ],
   "source": [
    "# Template. \n",
    "if os.path.isfile(path_to_trajectory_txt):\n",
    "    trajectory_template_data = trajectory_all_parameters[:, range_template_data]\n",
    "else:\n",
    "    trajectory_template_data = trajectory_all_parameters['template_data'][0:number_of_trajectory_points]\n",
    "\n",
    "moa = MultiObjectAttachment()\n",
    "kernel = create_kernel('torch', attachement_kernel_width)\n",
    "\n",
    "template = reader.create_object(path_to_initialized_template, template_type)\n",
    "\n",
    "trajectory_template = []\n",
    "for template_data in trajectory_template_data: \n",
    "    template_data_torch = Variable(torch.from_numpy(template_data.reshape((-1, xml_parameters.dimension))).type(Settings().tensor_scalar_type))\n",
    "    if attachment_type == 'current':\n",
    "        distance = moa._current_distance(template_data_torch, template, initialized_template, kernel).data.numpy()\n",
    "    elif attachment_type == 'varifold':\n",
    "        distance = moa._varifold_distance(template_data_torch, template, initialized_template, kernel).data.numpy()\n",
    "    elif attachment_type == 'landmark':\n",
    "        distance = moa._landmark_distance(template_data_torch.contiguous(), initialized_template).data.numpy()\n",
    "    else: \n",
    "        print('UNKNOWN ATTACHMENT TYPE. WEIRD.')\n",
    "    trajectory_template.append(distance)\n",
    "trajectory_template = np.array(trajectory_template)\n",
    "\n",
    "plt.plot(x, trajectory_template)\n",
    "plt.show()"
   ]
  },
  {
   "cell_type": "code",
   "execution_count": 16,
   "metadata": {},
   "outputs": [
    {
     "data": {
      "image/png": "[encoded data removed]",
      "text/plain": [
       "<matplotlib.figure.Figure at 0x1816bc1e10>"
      ]
     },
     "metadata": {},
     "output_type": "display_data"
    }
   ],
   "source": [
    "# Control points. \n",
    "if os.path.isfile(path_to_trajectory_txt):\n",
    "    trajectory_control_points = trajectory_all_parameters[:, range_control_points]\n",
    "else:\n",
    "    trajectory_control_points = trajectory_all_parameters['control_points'][0:number_of_trajectory_points]\n",
    "    \n",
    "trajectory_control_points_norm = np.array([np.linalg.norm(elt - initialized_control_points.ravel()) for elt in trajectory_control_points])\n",
    "plt.plot(x, trajectory_control_points_norm)\n",
    "plt.show()"
   ]
  },
  {
   "cell_type": "code",
   "execution_count": 17,
   "metadata": {},
   "outputs": [
    {
     "data": {
      "image/png": "[encoded data removed]",
      "text/plain": [
       "<matplotlib.figure.Figure at 0x1082f0208>"
      ]
     },
     "metadata": {},
     "output_type": "display_data"
    }
   ],
   "source": [
    "# Momenta. \n",
    "if os.path.isfile(path_to_trajectory_txt):\n",
    "    trajectory_momenta = trajectory_all_parameters[:, range_momenta]\n",
    "else:\n",
    "    trajectory_momenta = trajectory_all_parameters['momenta'][0:number_of_trajectory_points]\n",
    "\n",
    "trajectory_momenta_norm = np.array([np.linalg.norm(elt - initialized_momenta.ravel()) for elt in trajectory_momenta])\n",
    "plt.plot(x, trajectory_momenta_norm)\n",
    "plt.show()"
   ]
  },
  {
   "cell_type": "code",
   "execution_count": 18,
   "metadata": {},
   "outputs": [
    {
     "data": {
      "image/png": "[encoded data removed]",
      "text/plain": [
       "<matplotlib.figure.Figure at 0x1815f8fb70>"
      ]
     },
     "metadata": {},
     "output_type": "display_data"
    }
   ],
   "source": [
    "# Control points and momenta: velocity field. \n",
    "kernel = create_kernel('torch', xml_parameters.deformation_kernel_width)\n",
    "\n",
    "trajectory_velocity_field = []\n",
    "for (control_points, momenta) in zip(trajectory_control_points, trajectory_momenta): \n",
    "    control_points_torch = Variable(torch.from_numpy(control_points.reshape((-1, Settings().dimension))).type(Settings().tensor_scalar_type))\n",
    "    momenta_torch = Variable(torch.from_numpy(momenta.reshape((-1, Settings().dimension))).type(Settings().tensor_scalar_type))\n",
    "    velocity_field = kernel.convolve(control_points_torch, control_points_torch, momenta_torch).data.numpy()\n",
    "    trajectory_velocity_field.append(velocity_field)\n",
    "\n",
    "trajectory_velocity_field_norm = np.array([np.linalg.norm(elt - trajectory_velocity_field[0]) for elt in trajectory_velocity_field])\n",
    "plt.plot(x, trajectory_velocity_field_norm)\n",
    "plt.show()"
   ]
  },
  {
   "cell_type": "code",
   "execution_count": 19,
   "metadata": {
    "collapsed": true
   },
   "outputs": [],
   "source": [
    "# Modulation matrix: reconstructed space-shifts."
   ]
  },
  {
   "cell_type": "code",
   "execution_count": 20,
   "metadata": {},
   "outputs": [
    {
     "data": {
      "image/png": "[encoded data removed]",
      "text/plain": [
       "<matplotlib.figure.Figure at 0x11182c550>"
      ]
     },
     "metadata": {},
     "output_type": "display_data"
    }
   ],
   "source": [
    "# Reference time\n",
    "if os.path.isfile(path_to_trajectory_txt):\n",
    "    trajectory_reference_time = trajectory_all_parameters[:, range_reference_time]\n",
    "else:\n",
    "    trajectory_reference_time = trajectory_all_parameters['reference_time'][0:number_of_trajectory_points]\n",
    "    \n",
    "plt.plot(x, trajectory_reference_time)\n",
    "plt.show()"
   ]
  },
  {
   "cell_type": "code",
   "execution_count": 21,
   "metadata": {
    "scrolled": true
   },
   "outputs": [
    {
     "data": {
      "image/png": "[encoded data removed]",
      "text/plain": [
       "<matplotlib.figure.Figure at 0x1816e44828>"
      ]
     },
     "metadata": {},
     "output_type": "display_data"
    }
   ],
   "source": [
    "# Time-shift variance. \n",
    "if os.path.isfile(path_to_trajectory_txt):\n",
    "    trajectory_time_shift_variance = trajectory_all_parameters[:, range_time_shift_variance]\n",
    "else:\n",
    "    trajectory_time_shift_variance = trajectory_all_parameters['time_shift_variance'][0:number_of_trajectory_points]\n",
    "\n",
    "plt.plot(x, np.sqrt(trajectory_time_shift_variance))\n",
    "plt.show()"
   ]
  },
  {
   "cell_type": "code",
   "execution_count": 22,
   "metadata": {},
   "outputs": [
    {
     "data": {
      "image/png": "[encoded data removed]",
      "text/plain": [
       "<matplotlib.figure.Figure at 0x1816bc0320>"
      ]
     },
     "metadata": {},
     "output_type": "display_data"
    }
   ],
   "source": [
    "# Log-acceleration variance. \n",
    "if os.path.isfile(path_to_trajectory_txt):\n",
    "    trajectory_log_acceleration_variance = trajectory_all_parameters[:, range_log_acceleration_variance]\n",
    "else:\n",
    "    trajectory_log_acceleration_variance = trajectory_all_parameters['log_acceleration_variance'][0:number_of_trajectory_points]\n",
    "\n",
    "plt.plot(x, np.sqrt(trajectory_log_acceleration_variance))\n",
    "plt.show()"
   ]
  },
  {
   "cell_type": "code",
   "execution_count": 23,
   "metadata": {},
   "outputs": [
    {
     "data": {
      "image/png": "[encoded data removed]",
      "text/plain": [
       "<matplotlib.figure.Figure at 0x181618aac8>"
      ]
     },
     "metadata": {},
     "output_type": "display_data"
    }
   ],
   "source": [
    "# Noise variance. \n",
    "if os.path.isfile(path_to_trajectory_txt):\n",
    "    trajectory_noise_variance = trajectory_all_parameters[:, range_noise_variance]\n",
    "else:\n",
    "    trajectory_noise_variance = trajectory_all_parameters['noise_variance'][0:number_of_trajectory_points]\n",
    "\n",
    "plt.plot(x, np.sqrt(trajectory_noise_variance))\n",
    "plt.show()"
   ]
  },
  {
   "cell_type": "code",
   "execution_count": null,
   "metadata": {
    "collapsed": true
   },
   "outputs": [],
   "source": []
  },
  {
   "cell_type": "code",
   "execution_count": null,
   "metadata": {
    "collapsed": true
   },
   "outputs": [],
   "source": []
  },
  {
   "cell_type": "code",
   "execution_count": null,
   "metadata": {
    "collapsed": true
   },
   "outputs": [],
   "source": []
  }
 ],
 "metadata": {
  "kernelspec": {
   "display_name": "Python 3",
   "language": "python",
   "name": "python3"
  },
  "language_info": {
   "codemirror_mode": {
    "name": "ipython",
    "version": 3
   },
   "file_extension": ".py",
   "mimetype": "text/x-python",
   "name": "python",
   "nbconvert_exporter": "python",
   "pygments_lexer": "ipython3",
   "version": "3.6.3"
  }
 },
 "nbformat": 4,
 "nbformat_minor": 1
}
