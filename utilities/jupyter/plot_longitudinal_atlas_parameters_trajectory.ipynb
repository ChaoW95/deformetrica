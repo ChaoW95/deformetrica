{
 "cells": [
  {
   "cell_type": "code",
   "execution_count": 1,
   "metadata": {
    "collapsed": true
   },
   "outputs": [],
   "source": [
    "import numpy as np\n",
    "import torch\n",
    "from torch.autograd import Variable\n",
    "import os\n",
    "import sys\n",
    "import matplotlib.pyplot as plt"
   ]
  },
  {
   "cell_type": "code",
   "execution_count": 2,
   "metadata": {
    "collapsed": true
   },
   "outputs": [],
   "source": [
    "path_to_pydeformetrica = '../../'\n",
    "sys.path.append(os.path.join(path_to_pydeformetrica, 'src'))\n",
    "from in_out.xml_parameters import XmlParameters\n",
    "from in_out.dataset_functions import create_template_metadata\n",
    "from in_out.deformable_object_reader import DeformableObjectReader\n",
    "from core.model_tools.attachments.multi_object_attachment import MultiObjectAttachment\n",
    "import support.kernels as kernel_factory\n",
    "from support.utilities.general_settings import Settings\n",
    "from in_out.array_readers_and_writers import *"
   ]
  },
  {
   "cell_type": "code",
   "execution_count": 3,
   "metadata": {
    "collapsed": true
   },
   "outputs": [],
   "source": [
    "path_to_atlas = '/Users/alexandre.bone/Desktop/28_fear_fold0'\n",
    "path_to_output = os.path.join(path_to_atlas, 'output')"
   ]
  },
  {
   "cell_type": "code",
   "execution_count": 9,
   "metadata": {},
   "outputs": [
    {
     "name": "stderr",
     "output_type": "stream",
     "text": [
      "/Users/alexandre.bone/Softwares/deformetrica/src/in_out/xml_parameters.py:315: UserWarning: Unknown entry while parsing root of the model xml: initial-log-accelerations\n",
      "  warnings.warn(msg)\n",
      "/Users/alexandre.bone/Softwares/deformetrica/src/in_out/xml_parameters.py:315: UserWarning: Unknown entry while parsing root of the model xml: initial-log-acceleration-std\n",
      "  warnings.warn(msg)\n"
     ]
    }
   ],
   "source": [
    "# Xml parameters. \n",
    "initialized_model_xml_path = os.path.join(path_to_atlas, 'initialized_model.xml')\n",
    "dataset_xml_path = os.path.join(path_to_atlas, 'data_set__fear__fold_0__train.xml')\n",
    "optimization_parameters_xml_path = os.path.join(path_to_atlas, 'optimization_parameters.xml')\n",
    "\n",
    "xml_parameters = XmlParameters()\n",
    "xml_parameters.read_all_xmls(initialized_model_xml_path, dataset_xml_path, optimization_parameters_xml_path, None)"
   ]
  },
  {
   "cell_type": "code",
   "execution_count": 10,
   "metadata": {},
   "outputs": [
    {
     "ename": "RuntimeError",
     "evalue": "No trajectory file !",
     "output_type": "error",
     "traceback": [
      "\u001b[0;31m---------------------------------------------------------------------------\u001b[0m",
      "\u001b[0;31mRuntimeError\u001b[0m                              Traceback (most recent call last)",
      "\u001b[0;32m<ipython-input-10-959062c21614>\u001b[0m in \u001b[0;36m<module>\u001b[0;34m()\u001b[0m\n\u001b[1;32m      9\u001b[0m     \u001b[0mnumber_of_trajectory_points\u001b[0m \u001b[0;34m=\u001b[0m \u001b[0;36m201\u001b[0m\u001b[0;34m\u001b[0m\u001b[0m\n\u001b[1;32m     10\u001b[0m \u001b[0;32melse\u001b[0m\u001b[0;34m:\u001b[0m\u001b[0;34m\u001b[0m\u001b[0m\n\u001b[0;32m---> 11\u001b[0;31m     \u001b[0;32mraise\u001b[0m \u001b[0mRuntimeError\u001b[0m\u001b[0;34m(\u001b[0m\u001b[0;34m'No trajectory file !'\u001b[0m\u001b[0;34m)\u001b[0m\u001b[0;34m\u001b[0m\u001b[0m\n\u001b[0m",
      "\u001b[0;31mRuntimeError\u001b[0m: No trajectory file !"
     ]
    }
   ],
   "source": [
    "path_to_trajectory_txt = os.path.join(path_to_output, 'LongitudinalAtlas__EstimatedParameters__Trajectory.txt')\n",
    "path_to_trajectory_npy = os.path.join(path_to_output, 'LongitudinalAtlas__EstimatedParameters__Trajectory.npy')\n",
    "if os.path.isfile(path_to_trajectory_txt):\n",
    "    trajectory_all_parameters = np.loadtxt(path_to_trajectory_txt)\n",
    "    number_of_trajectory_points = trajectory_all_parameters.shape[0]\n",
    "elif os.path.isfile(path_to_trajectory_npy): \n",
    "    trajectory_all_parameters = np.load(path_to_trajectory_npy)[()]\n",
    "    #number_of_trajectory_points = list(trajectory_all_parameters.values())[0].shape[0]\n",
    "    number_of_trajectory_points = 201\n",
    "else: \n",
    "    raise RuntimeError('No trajectory file !')"
   ]
  },
  {
   "cell_type": "markdown",
   "metadata": {},
   "source": [
    "# 1. Get initialized parameters"
   ]
  },
  {
   "cell_type": "code",
   "execution_count": null,
   "metadata": {
    "collapsed": true
   },
   "outputs": [],
   "source": [
    "# Template data. \n",
    "for template_object_specifications in xml_parameters.template_specifications.values(): \n",
    "    path_to_initialized_template = os.path.abspath(os.path.join(path_to_atlas, template_object_specifications['filename']))\n",
    "    template_type = template_object_specifications['deformable_object_type'].lower()\n",
    "    attachment_type = template_object_specifications['attachment_type'].lower()\n",
    "    attachement_kernel_type = template_object_specifications['kernel_type']\n",
    "    attachement_kernel_width = template_object_specifications['kernel_width']\n",
    "reader = DeformableObjectReader()\n",
    "initialized_template = reader.create_object(path_to_initialized_template, template_type)\n",
    "range_template_data = range(0, initialized_template.get_points().size)"
   ]
  },
  {
   "cell_type": "code",
   "execution_count": null,
   "metadata": {
    "collapsed": true
   },
   "outputs": [],
   "source": [
    "# Control points. \n",
    "if Settings().dense_mode: \n",
    "    initialized_control_points = initialized_template.get_points()\n",
    "else:\n",
    "    path_to_initialized_control_points = os.path.abspath(os.path.join(path_to_atlas, xml_parameters.initial_control_points))\n",
    "    initialized_control_points = np.loadtxt(path_to_initialized_control_points)\n",
    "range_control_points = range(range_template_data[-1] + 1, range_template_data[-1] + initialized_control_points.size + 1)"
   ]
  },
  {
   "cell_type": "code",
   "execution_count": null,
   "metadata": {
    "collapsed": true
   },
   "outputs": [],
   "source": [
    "# Momenta. \n",
    "path_to_initialized_momenta = os.path.abspath(os.path.join(path_to_atlas, xml_parameters.initial_momenta))\n",
    "initialized_momenta = read_3D_array(path_to_initialized_momenta)\n",
    "range_momenta = range(range_control_points[-1] + 1, range_control_points[-1] + initialized_momenta.size + 1)"
   ]
  },
  {
   "cell_type": "code",
   "execution_count": null,
   "metadata": {
    "collapsed": true
   },
   "outputs": [],
   "source": [
    "# Modulation matrix. \n",
    "path_to_initialized_modulation_matrix = os.path.abspath(os.path.join(path_to_atlas, xml_parameters.initial_modulation_matrix))\n",
    "initialized_modulation_matrix = np.loadtxt(path_to_initialized_modulation_matrix)\n",
    "range_modulation_matrix = range(range_momenta[-1] + 1, range_momenta[-1] + initialized_modulation_matrix.size + 1)"
   ]
  },
  {
   "cell_type": "code",
   "execution_count": null,
   "metadata": {
    "collapsed": true
   },
   "outputs": [],
   "source": [
    "# Reference time. \n",
    "initialized_reference_time = xml_parameters.t0\n",
    "range_reference_time = range(range_modulation_matrix[-1] + 1, range_modulation_matrix[-1] + 2)"
   ]
  },
  {
   "cell_type": "code",
   "execution_count": null,
   "metadata": {
    "collapsed": true
   },
   "outputs": [],
   "source": [
    "# Time-shift variance. \n",
    "initialized_time_shift_variance = xml_parameters.initial_time_shift_variance\n",
    "range_time_shift_variance = range(range_reference_time[-1] + 1, range_reference_time[-1] + 2)"
   ]
  },
  {
   "cell_type": "code",
   "execution_count": null,
   "metadata": {
    "collapsed": true
   },
   "outputs": [],
   "source": [
    "# Log-acceleration variance. \n",
    "initialized_log_acceleration_variance = xml_parameters.initial_log_acceleration_variance\n",
    "range_log_acceleration_variance = range(range_time_shift_variance[-1] + 1, range_time_shift_variance[-1] + 2)"
   ]
  },
  {
   "cell_type": "code",
   "execution_count": null,
   "metadata": {
    "collapsed": true
   },
   "outputs": [],
   "source": [
    "# Noise variance. \n",
    "for template_object_specifications in xml_parameters.template_specifications.values(): \n",
    "    initialized_noise_variance = template_object_specifications['noise_std'] ** 2\n",
    "range_noise_variance = range(range_log_acceleration_variance[-1] + 1, range_log_acceleration_variance[-1] + 2)"
   ]
  },
  {
   "cell_type": "markdown",
   "metadata": {},
   "source": [
    "# 2. Print parameters trajectory"
   ]
  },
  {
   "cell_type": "code",
   "execution_count": null,
   "metadata": {
    "collapsed": true
   },
   "outputs": [],
   "source": [
    "#number_of_trajectory_points = 125\n",
    "max_number_of_trajectory_points = min(500, xml_parameters.max_iterations)\n",
    "x = np.linspace(0, xml_parameters.max_iterations, max_number_of_trajectory_points + 1)[:number_of_trajectory_points]"
   ]
  },
  {
   "cell_type": "code",
   "execution_count": null,
   "metadata": {},
   "outputs": [],
   "source": [
    "trajectory_all_parameters.keys()"
   ]
  },
  {
   "cell_type": "code",
   "execution_count": null,
   "metadata": {},
   "outputs": [],
   "source": [
    "# Template. \n",
    "if os.path.isfile(path_to_trajectory_txt):\n",
    "    trajectory_template_data = trajectory_all_parameters[:, range_template_data]\n",
    "else:\n",
    "    if 'landmark_points' in trajectory_all_parameters.keys():\n",
    "        trajectory_template_data = trajectory_all_parameters['landmark_points'][0:number_of_trajectory_points]\n",
    "    elif 'template_data' in trajectory_all_parameters.keys():\n",
    "        trajectory_template_data = trajectory_all_parameters['template_data'][0:number_of_trajectory_points]\n",
    "    else: \n",
    "        raise RuntimeError\n",
    "\n",
    "moa = MultiObjectAttachment()\n",
    "kernel = kernel_factory.factory('torch', attachement_kernel_width)\n",
    "\n",
    "template = reader.create_object(path_to_initialized_template, template_type)\n",
    "\n",
    "trajectory_template = []\n",
    "for k, template_data in enumerate(trajectory_template_data): \n",
    "    template_data_torch = Variable(torch.from_numpy(template_data.reshape((-1, xml_parameters.dimension))).type(Settings().tensor_scalar_type))\n",
    "    if attachment_type == 'current':\n",
    "        distance = moa._current_distance(template_data_torch, template, initialized_template, kernel).data.numpy()\n",
    "    elif attachment_type == 'varifold':\n",
    "        distance = moa._varifold_distance(template_data_torch, template, initialized_template, kernel).data.numpy()\n",
    "    elif attachment_type == 'landmark':\n",
    "        distance = moa._landmark_distance(template_data_torch.contiguous(), initialized_template).data.numpy()\n",
    "    else: \n",
    "        print('UNKNOWN ATTACHMENT TYPE. WEIRD.')\n",
    "    trajectory_template.append(distance)\n",
    "    \n",
    "    initialized_template.set_points(template_data_torch.detach().cpu().numpy())\n",
    "    initialized_template.norm = None\n",
    "    \n",
    "#    Settings().output_dir = ''\n",
    "#    output_folder = '/Users/alexandre.bone/Desktop/tmp'\n",
    "#    if not os.path.isdir(output_folder):\n",
    "#        os.mkdir(output_folder)\n",
    "#    template.write(os.path.join(output_folder, '%d.vtk' % k), template_data_torch.detach().cpu().numpy())\n",
    "    \n",
    "trajectory_template = np.array(trajectory_template)\n",
    "\n",
    "plt.plot(x, trajectory_template)\n",
    "plt.show()"
   ]
  },
  {
   "cell_type": "code",
   "execution_count": null,
   "metadata": {},
   "outputs": [],
   "source": [
    "# Control points. \n",
    "if os.path.isfile(path_to_trajectory_txt):\n",
    "    trajectory_control_points = trajectory_all_parameters[:, range_control_points]\n",
    "else:\n",
    "    trajectory_control_points = trajectory_all_parameters['control_points'][0:number_of_trajectory_points]\n",
    "    \n",
    "trajectory_control_points_norm = np.array([np.linalg.norm(elt - initialized_control_points.ravel()) for elt in trajectory_control_points])\n",
    "plt.plot(x, trajectory_control_points_norm)\n",
    "plt.show()"
   ]
  },
  {
   "cell_type": "code",
   "execution_count": null,
   "metadata": {},
   "outputs": [],
   "source": [
    "# Momenta. \n",
    "if os.path.isfile(path_to_trajectory_txt):\n",
    "    trajectory_momenta = trajectory_all_parameters[:, range_momenta]\n",
    "else:\n",
    "    trajectory_momenta = trajectory_all_parameters['momenta'][0:number_of_trajectory_points]\n",
    "\n",
    "trajectory_momenta_norm = np.array([np.linalg.norm(elt - initialized_momenta.ravel()) for elt in trajectory_momenta])\n",
    "plt.plot(x, trajectory_momenta_norm)\n",
    "plt.show()"
   ]
  },
  {
   "cell_type": "code",
   "execution_count": null,
   "metadata": {},
   "outputs": [],
   "source": [
    "# Control points and momenta: velocity field. \n",
    "kernel = kernel_factory.factory('torch', xml_parameters.deformation_kernel_width)\n",
    "\n",
    "trajectory_velocity_field = []\n",
    "for (control_points, momenta) in zip(trajectory_control_points, trajectory_momenta): \n",
    "    control_points_torch = Variable(torch.from_numpy(control_points.reshape((-1, Settings().dimension))).type(Settings().tensor_scalar_type))\n",
    "    momenta_torch = Variable(torch.from_numpy(momenta.reshape((-1, Settings().dimension))).type(Settings().tensor_scalar_type))\n",
    "    velocity_field = kernel.convolve(control_points_torch, control_points_torch, momenta_torch).data.numpy()\n",
    "    trajectory_velocity_field.append(velocity_field)\n",
    "\n",
    "trajectory_velocity_field_norm = np.array([np.linalg.norm(elt - trajectory_velocity_field[0]) for elt in trajectory_velocity_field])\n",
    "plt.plot(x, trajectory_velocity_field_norm)\n",
    "plt.show()"
   ]
  },
  {
   "cell_type": "code",
   "execution_count": null,
   "metadata": {
    "collapsed": true
   },
   "outputs": [],
   "source": [
    "# Modulation matrix: reconstructed space-shifts."
   ]
  },
  {
   "cell_type": "code",
   "execution_count": null,
   "metadata": {},
   "outputs": [],
   "source": [
    "# Reference time. \n",
    "if os.path.isfile(path_to_trajectory_txt):\n",
    "    trajectory_reference_time = trajectory_all_parameters[:, range_reference_time]\n",
    "else:\n",
    "    trajectory_reference_time = trajectory_all_parameters['reference_time'][0:number_of_trajectory_points]\n",
    "    \n",
    "plt.plot(x, trajectory_reference_time)\n",
    "plt.show()"
   ]
  },
  {
   "cell_type": "code",
   "execution_count": null,
   "metadata": {
    "scrolled": true
   },
   "outputs": [],
   "source": [
    "# Time-shift variance. \n",
    "if os.path.isfile(path_to_trajectory_txt):\n",
    "    trajectory_time_shift_variance = trajectory_all_parameters[:, range_time_shift_variance]\n",
    "else:\n",
    "    trajectory_time_shift_variance = trajectory_all_parameters['time_shift_variance'][0:number_of_trajectory_points]\n",
    "\n",
    "plt.plot(x, np.sqrt(trajectory_time_shift_variance))\n",
    "plt.show()"
   ]
  },
  {
   "cell_type": "code",
   "execution_count": null,
   "metadata": {},
   "outputs": [],
   "source": [
    "# Log-acceleration variance. \n",
    "if os.path.isfile(path_to_trajectory_txt):\n",
    "    trajectory_log_acceleration_variance = trajectory_all_parameters[:, range_log_acceleration_variance]\n",
    "else:\n",
    "    trajectory_log_acceleration_variance = trajectory_all_parameters['log_acceleration_variance'][0:number_of_trajectory_points]\n",
    "\n",
    "plt.plot(x, np.sqrt(trajectory_log_acceleration_variance))\n",
    "plt.show()"
   ]
  },
  {
   "cell_type": "code",
   "execution_count": null,
   "metadata": {},
   "outputs": [],
   "source": [
    "# Noise variance. \n",
    "if os.path.isfile(path_to_trajectory_txt):\n",
    "    trajectory_noise_variance = trajectory_all_parameters[:, range_noise_variance]\n",
    "else:\n",
    "    trajectory_noise_variance = trajectory_all_parameters['noise_variance'][0:number_of_trajectory_points]\n",
    "\n",
    "plt.plot(x, np.sqrt(trajectory_noise_variance))\n",
    "plt.show()"
   ]
  },
  {
   "cell_type": "code",
   "execution_count": null,
   "metadata": {
    "collapsed": true
   },
   "outputs": [],
   "source": []
  },
  {
   "cell_type": "code",
   "execution_count": null,
   "metadata": {
    "collapsed": true
   },
   "outputs": [],
   "source": []
  },
  {
   "cell_type": "code",
   "execution_count": null,
   "metadata": {
    "collapsed": true
   },
   "outputs": [],
   "source": []
  }
 ],
 "metadata": {
  "kernelspec": {
   "display_name": "Python 3",
   "language": "python",
   "name": "python3"
  },
  "language_info": {
   "codemirror_mode": {
    "name": "ipython",
    "version": 3
   },
   "file_extension": ".py",
   "mimetype": "text/x-python",
   "name": "python",
   "nbconvert_exporter": "python",
   "pygments_lexer": "ipython3",
   "version": "3.6.3"
  }
 },
 "nbformat": 4,
 "nbformat_minor": 1
}
